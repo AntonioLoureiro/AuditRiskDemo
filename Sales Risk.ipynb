{
 "cells": [
  {
   "cell_type": "code",
   "execution_count": 203,
   "metadata": {},
   "outputs": [],
   "source": [
    "push!(LOAD_PATH,\"../WebTools/src/\")\n",
    "using WebTools\n",
    "\n",
    "using DataFrames,Dates,Distributions"
   ]
  },
  {
   "cell_type": "code",
   "execution_count": 204,
   "metadata": {},
   "outputs": [],
   "source": [
    "elements=[l1*l2 for l1 in 'A':'Z' for l2 in 'A':'Z']\n",
    "\n",
    "products=\"Product_\".*[l1*l2 for l1 in 'A':'Z' for l2 in 'A':'Z']\n",
    "clients=\"Client_\".*[string(l1) for l1 in 'A':'Z']\n",
    "\n",
    "product_price=Dict(p=>rand(0.1:0.1:100) for p in products)\n",
    "client_disc=Dict(c=>rand([0.0,0.1,0.2,0.3,0.4]) for c in clients)\n",
    "client_fraud=Dict(c=>rand()>0.95 ? true : false for c in clients);"
   ]
  },
  {
   "cell_type": "code",
   "execution_count": 211,
   "metadata": {},
   "outputs": [],
   "source": [
    "nr=1000000\n",
    "invoices=DataFrame()\n",
    "invoices[:Date]=rand(Date(2019,1,1):Dates.Day(1):Date(2019,1,31),nr)\n",
    "invoices[:Client]=rand(clients,nr)\n",
    "invoices[:Product]=rand(products,nr)\n",
    "invoices[:Qty]=rand(10:100,nr)\n",
    "invoices[:UnitPriceGr]=map(x->product_price[x],invoices[:Product])\n",
    "invoices[:Discount]=map(x->client_disc[x],invoices[:Client])\n",
    "invoices[:UnitPriceReal]=invoices[:UnitPriceGr].*(1 .-invoices[:Discount])\n",
    "invoices[:Noise]=[rand()>0.95 ? rand(LogNormal(0.01,0.025)) : 1.0 for r in 1:nr]\n",
    "invoices[:Fraud]=map(x->client_fraud[x] ? rand(0.95:0.01:0.99) : 1.0,invoices[:Client])\n",
    "invoices[:UnitPrice]=invoices[:UnitPriceReal].*invoices[:Noise].*invoices[:Fraud]\n",
    "invoices[:Value]=invoices[:Qty].*invoices[:UnitPrice]\n",
    "\n",
    "invoices;"
   ]
  },
  {
   "cell_type": "code",
   "execution_count": 213,
   "metadata": {},
   "outputs": [],
   "source": [
    "summary=by(invoices,[:Client,:Product],df->DataFrame(Value=sum(df[:Value]),meanPrice=mean(df[:UnitPrice]),stdPrice=std(df[:UnitPrice])))\n",
    "summary[:cvPrice]=summary[:stdPrice]./summary[:meanPrice]\n",
    "summary[:Risk]=summary[:cvPrice].*summary[:Value];"
   ]
  },
  {
   "cell_type": "code",
   "execution_count": 221,
   "metadata": {},
   "outputs": [],
   "source": [
    "opt=Dict(\"xAxis\"=>Dict(\"type\"=>\"value\"),\"yAxis\"=>Dict(\"type\"=>\"value\"),\n",
    "            \"series\"=>[])\n",
    "push!(opt[\"series\"],Dict(\"type\"=>\"scatter\",\"data\"=>map(x->Dict(\"value\"=>[round(x[:cvPrice],digits=5),x[:Value],x[:Risk],x[:Client],x[:Product]]),eachrow(summary))))\n",
    "opt[\"visualMap\"]=Dict(\"dimension\"=>2,\"min\"=>minimum(summary[:Risk]),\"max\"=>maximum(summary[:Risk]),\"top\"=>\"middle\",\"right\"=>10,\"calculable\"=>true,\"color\"=>[\"#f01104\",\"#2f8946\"])\n",
    "opt[\"title\"]=Dict(\"text\"=>\"Risco Preço nas Vendas por Cliente/Produto\",\"left\"=>\"center\")\n",
    "opt[\"yAxis\"][\"name\"]=\"Volume Vendas\"\n",
    "opt[\"xAxis\"][\"name\"]=\"Coef Var Preço\"\n",
    "ec=EChart(opt,width=1200,height=800);"
   ]
  },
  {
   "cell_type": "code",
   "execution_count": 222,
   "metadata": {},
   "outputs": [
    {
     "data": {
      "text/plain": [
       "433"
      ]
     },
     "execution_count": 222,
     "metadata": {},
     "output_type": "execute_result"
    }
   ],
   "source": [
    "open(\"sales_risk.html\", \"w\") do f\n",
    "    write(f,\"\"\"<!DOCTYPE html>\n",
    "<html>\n",
    "<head>\n",
    "    <title>Demo</title>\n",
    "    <meta charset=\"UTF-8\" />\n",
    "    <meta name=\"viewport\" content=\"width=device-width, initial-scale=1\">\n",
    "    <script src=\"https://cdnjs.cloudflare.com/ajax/libs/echarts/4.3.0/echarts-en.min.js\"></script>\n",
    "</head>\"\"\")\n",
    "    write(f,\"<body>\")\n",
    "    write(f,html(ec))\n",
    "    write(f,\"</body>\")\n",
    "    write(f,\"\"\"<script>myChart.setOption({\"tooltip\":{\"padding\":10,\"borderColor\":\"#777\",\"borderWidth\":1,\"backgroundColor\":\"#242\",\"formatter\":\n",
    "                    function (params, ticket, callback) {\n",
    "                        return \"Cliente : \"+params.value[3]+\"<br>Produto : \"+params.value[4]+\"<br>Vendas : \"+Intl.NumberFormat().format(params.value[1])+\"<br>Coef Var Preço : \"+params.value[0]\n",
    "                        }\n",
    "                    }},false,true);</script>\n",
    "    \"\"\")                \n",
    "    \n",
    "end\n"
   ]
  },
  {
   "cell_type": "code",
   "execution_count": null,
   "metadata": {},
   "outputs": [],
   "source": []
  }
 ],
 "metadata": {
  "kernelspec": {
   "display_name": "Julia 1.1.0",
   "language": "julia",
   "name": "julia-1.1"
  },
  "language_info": {
   "file_extension": ".jl",
   "mimetype": "application/julia",
   "name": "julia",
   "version": "1.1.0"
  }
 },
 "nbformat": 4,
 "nbformat_minor": 2
}
