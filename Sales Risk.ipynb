{
 "cells": [
  {
   "cell_type": "code",
   "execution_count": 203,
   "metadata": {},
   "outputs": [],
   "source": [
    "push!(LOAD_PATH,\"../WebTools/src/\")\n",
    "using WebTools\n",
    "\n",
    "using DataFrames,Dates,Distributions"
   ]
  },
  {
   "cell_type": "code",
   "execution_count": 204,
   "metadata": {},
   "outputs": [],
   "source": [
    "elements=[l1*l2 for l1 in 'A':'Z' for l2 in 'A':'Z']\n",
    "\n",
    "products=\"Product_\".*[l1*l2 for l1 in 'A':'Z' for l2 in 'A':'Z']\n",
    "clients=\"Client_\".*[string(l1) for l1 in 'A':'Z']\n",
    "\n",
    "product_price=Dict(p=>rand(0.1:0.1:100) for p in products)\n",
    "client_disc=Dict(c=>rand([0.0,0.1,0.2,0.3,0.4]) for c in clients)\n",
    "client_fraud=Dict(c=>rand()>0.95 ? true : false for c in clients);"
   ]
  },
  {
   "cell_type": "code",
   "execution_count": 178,
   "metadata": {},
   "outputs": [
    {
     "data": {
      "text/html": [
       "<table class=\"data-frame\"><thead><tr><th></th><th>Date</th><th>Client</th><th>Product</th><th>Qty</th><th>UnitPriceGr</th><th>Discount</th><th>UnitPriceReal</th><th>Noise</th><th>Fraud</th><th>UnitPrice</th><th>Value</th></tr><tr><th></th><th>Date</th><th>String</th><th>String</th><th>Int64</th><th>Float64</th><th>Float64</th><th>Float64</th><th>Float64</th><th>Float64</th><th>Float64</th><th>Float64</th></tr></thead><tbody><p>1,000,000 rows × 11 columns</p><tr><th>1</th><td>2019-01-06</td><td>Client_Z</td><td>Product_AI</td><td>42</td><td>14.4</td><td>0.0</td><td>14.4</td><td>1.0</td><td>1.0</td><td>14.4</td><td>604.8</td></tr><tr><th>2</th><td>2019-01-11</td><td>Client_S</td><td>Product_KC</td><td>23</td><td>27.1</td><td>0.2</td><td>21.68</td><td>1.0</td><td>1.0</td><td>21.68</td><td>498.64</td></tr><tr><th>3</th><td>2019-01-17</td><td>Client_D</td><td>Product_HA</td><td>73</td><td>13.9</td><td>0.0</td><td>13.9</td><td>1.0</td><td>1.0</td><td>13.9</td><td>1014.7</td></tr><tr><th>4</th><td>2019-01-13</td><td>Client_K</td><td>Product_XC</td><td>77</td><td>24.8</td><td>0.1</td><td>22.32</td><td>1.0</td><td>1.0</td><td>22.32</td><td>1718.64</td></tr><tr><th>5</th><td>2019-01-28</td><td>Client_P</td><td>Product_VG</td><td>90</td><td>71.5</td><td>0.1</td><td>64.35</td><td>0.988495</td><td>1.0</td><td>63.6097</td><td>5724.87</td></tr><tr><th>6</th><td>2019-01-19</td><td>Client_N</td><td>Product_LO</td><td>83</td><td>14.6</td><td>0.2</td><td>11.68</td><td>1.0</td><td>1.0</td><td>11.68</td><td>969.44</td></tr><tr><th>7</th><td>2019-01-25</td><td>Client_S</td><td>Product_LN</td><td>65</td><td>46.9</td><td>0.2</td><td>37.52</td><td>1.0</td><td>1.0</td><td>37.52</td><td>2438.8</td></tr><tr><th>8</th><td>2019-01-03</td><td>Client_B</td><td>Product_RE</td><td>61</td><td>11.1</td><td>0.2</td><td>8.88</td><td>1.0</td><td>1.0</td><td>8.88</td><td>541.68</td></tr><tr><th>9</th><td>2019-01-06</td><td>Client_C</td><td>Product_VP</td><td>11</td><td>81.1</td><td>0.4</td><td>48.66</td><td>1.0</td><td>1.0</td><td>48.66</td><td>535.26</td></tr><tr><th>10</th><td>2019-01-12</td><td>Client_I</td><td>Product_CS</td><td>20</td><td>74.9</td><td>0.0</td><td>74.9</td><td>1.0</td><td>1.0</td><td>74.9</td><td>1498.0</td></tr><tr><th>11</th><td>2019-01-08</td><td>Client_L</td><td>Product_ER</td><td>31</td><td>87.8</td><td>0.3</td><td>61.46</td><td>1.0</td><td>1.0</td><td>61.46</td><td>1905.26</td></tr><tr><th>12</th><td>2019-01-07</td><td>Client_E</td><td>Product_UW</td><td>45</td><td>36.6</td><td>0.0</td><td>36.6</td><td>1.0</td><td>0.99</td><td>36.234</td><td>1630.53</td></tr><tr><th>13</th><td>2019-01-19</td><td>Client_U</td><td>Product_CB</td><td>99</td><td>29.6</td><td>0.3</td><td>20.72</td><td>1.0</td><td>1.0</td><td>20.72</td><td>2051.28</td></tr><tr><th>14</th><td>2019-01-12</td><td>Client_G</td><td>Product_MW</td><td>70</td><td>72.1</td><td>0.3</td><td>50.47</td><td>1.0</td><td>1.0</td><td>50.47</td><td>3532.9</td></tr><tr><th>15</th><td>2019-01-01</td><td>Client_B</td><td>Product_KF</td><td>87</td><td>55.7</td><td>0.2</td><td>44.56</td><td>1.0</td><td>1.0</td><td>44.56</td><td>3876.72</td></tr><tr><th>16</th><td>2019-01-18</td><td>Client_E</td><td>Product_KD</td><td>92</td><td>18.0</td><td>0.0</td><td>18.0</td><td>1.05278</td><td>0.96</td><td>18.1921</td><td>1673.67</td></tr><tr><th>17</th><td>2019-01-04</td><td>Client_J</td><td>Product_SW</td><td>48</td><td>26.9</td><td>0.2</td><td>21.52</td><td>1.0</td><td>1.0</td><td>21.52</td><td>1032.96</td></tr><tr><th>18</th><td>2019-01-09</td><td>Client_M</td><td>Product_ZW</td><td>96</td><td>24.4</td><td>0.4</td><td>14.64</td><td>1.0</td><td>1.0</td><td>14.64</td><td>1405.44</td></tr><tr><th>19</th><td>2019-01-19</td><td>Client_A</td><td>Product_KF</td><td>92</td><td>55.7</td><td>0.1</td><td>50.13</td><td>1.0</td><td>1.0</td><td>50.13</td><td>4611.96</td></tr><tr><th>20</th><td>2019-01-04</td><td>Client_K</td><td>Product_KL</td><td>92</td><td>7.1</td><td>0.1</td><td>6.39</td><td>1.0</td><td>1.0</td><td>6.39</td><td>587.88</td></tr><tr><th>21</th><td>2019-01-21</td><td>Client_B</td><td>Product_FK</td><td>71</td><td>52.2</td><td>0.2</td><td>41.76</td><td>1.0</td><td>1.0</td><td>41.76</td><td>2964.96</td></tr><tr><th>22</th><td>2019-01-24</td><td>Client_N</td><td>Product_CL</td><td>26</td><td>80.0</td><td>0.2</td><td>64.0</td><td>0.937472</td><td>1.0</td><td>59.9982</td><td>1559.95</td></tr><tr><th>23</th><td>2019-01-08</td><td>Client_N</td><td>Product_NB</td><td>47</td><td>3.3</td><td>0.2</td><td>2.64</td><td>1.0</td><td>1.0</td><td>2.64</td><td>124.08</td></tr><tr><th>24</th><td>2019-01-27</td><td>Client_H</td><td>Product_PZ</td><td>46</td><td>11.3</td><td>0.2</td><td>9.04</td><td>1.0</td><td>1.0</td><td>9.04</td><td>415.84</td></tr><tr><th>25</th><td>2019-01-13</td><td>Client_M</td><td>Product_SC</td><td>12</td><td>61.3</td><td>0.4</td><td>36.78</td><td>1.0</td><td>1.0</td><td>36.78</td><td>441.36</td></tr><tr><th>26</th><td>2019-01-09</td><td>Client_W</td><td>Product_XJ</td><td>45</td><td>25.3</td><td>0.3</td><td>17.71</td><td>1.0</td><td>1.0</td><td>17.71</td><td>796.95</td></tr><tr><th>27</th><td>2019-01-23</td><td>Client_Z</td><td>Product_RA</td><td>61</td><td>84.8</td><td>0.0</td><td>84.8</td><td>1.0</td><td>1.0</td><td>84.8</td><td>5172.8</td></tr><tr><th>28</th><td>2019-01-14</td><td>Client_H</td><td>Product_RT</td><td>12</td><td>78.2</td><td>0.2</td><td>62.56</td><td>1.0</td><td>1.0</td><td>62.56</td><td>750.72</td></tr><tr><th>29</th><td>2019-01-27</td><td>Client_L</td><td>Product_OM</td><td>40</td><td>60.1</td><td>0.3</td><td>42.07</td><td>1.0</td><td>1.0</td><td>42.07</td><td>1682.8</td></tr><tr><th>30</th><td>2019-01-18</td><td>Client_F</td><td>Product_PC</td><td>13</td><td>68.2</td><td>0.4</td><td>40.92</td><td>1.0</td><td>1.0</td><td>40.92</td><td>531.96</td></tr><tr><th>&vellip;</th><td>&vellip;</td><td>&vellip;</td><td>&vellip;</td><td>&vellip;</td><td>&vellip;</td><td>&vellip;</td><td>&vellip;</td><td>&vellip;</td><td>&vellip;</td><td>&vellip;</td><td>&vellip;</td></tr></tbody></table>"
      ],
      "text/latex": [
       "\\begin{tabular}{r|ccccccccccc}\n",
       "\t& Date & Client & Product & Qty & UnitPriceGr & Discount & UnitPriceReal & Noise & Fraud & UnitPrice & Value\\\\\n",
       "\t\\hline\n",
       "\t& Date & String & String & Int64 & Float64 & Float64 & Float64 & Float64 & Float64 & Float64 & Float64\\\\\n",
       "\t\\hline\n",
       "\t1 & 2019-01-06 & Client\\_Z & Product\\_AI & 42 & 14.4 & 0.0 & 14.4 & 1.0 & 1.0 & 14.4 & 604.8 \\\\\n",
       "\t2 & 2019-01-11 & Client\\_S & Product\\_KC & 23 & 27.1 & 0.2 & 21.68 & 1.0 & 1.0 & 21.68 & 498.64 \\\\\n",
       "\t3 & 2019-01-17 & Client\\_D & Product\\_HA & 73 & 13.9 & 0.0 & 13.9 & 1.0 & 1.0 & 13.9 & 1014.7 \\\\\n",
       "\t4 & 2019-01-13 & Client\\_K & Product\\_XC & 77 & 24.8 & 0.1 & 22.32 & 1.0 & 1.0 & 22.32 & 1718.64 \\\\\n",
       "\t5 & 2019-01-28 & Client\\_P & Product\\_VG & 90 & 71.5 & 0.1 & 64.35 & 0.988495 & 1.0 & 63.6097 & 5724.87 \\\\\n",
       "\t6 & 2019-01-19 & Client\\_N & Product\\_LO & 83 & 14.6 & 0.2 & 11.68 & 1.0 & 1.0 & 11.68 & 969.44 \\\\\n",
       "\t7 & 2019-01-25 & Client\\_S & Product\\_LN & 65 & 46.9 & 0.2 & 37.52 & 1.0 & 1.0 & 37.52 & 2438.8 \\\\\n",
       "\t8 & 2019-01-03 & Client\\_B & Product\\_RE & 61 & 11.1 & 0.2 & 8.88 & 1.0 & 1.0 & 8.88 & 541.68 \\\\\n",
       "\t9 & 2019-01-06 & Client\\_C & Product\\_VP & 11 & 81.1 & 0.4 & 48.66 & 1.0 & 1.0 & 48.66 & 535.26 \\\\\n",
       "\t10 & 2019-01-12 & Client\\_I & Product\\_CS & 20 & 74.9 & 0.0 & 74.9 & 1.0 & 1.0 & 74.9 & 1498.0 \\\\\n",
       "\t11 & 2019-01-08 & Client\\_L & Product\\_ER & 31 & 87.8 & 0.3 & 61.46 & 1.0 & 1.0 & 61.46 & 1905.26 \\\\\n",
       "\t12 & 2019-01-07 & Client\\_E & Product\\_UW & 45 & 36.6 & 0.0 & 36.6 & 1.0 & 0.99 & 36.234 & 1630.53 \\\\\n",
       "\t13 & 2019-01-19 & Client\\_U & Product\\_CB & 99 & 29.6 & 0.3 & 20.72 & 1.0 & 1.0 & 20.72 & 2051.28 \\\\\n",
       "\t14 & 2019-01-12 & Client\\_G & Product\\_MW & 70 & 72.1 & 0.3 & 50.47 & 1.0 & 1.0 & 50.47 & 3532.9 \\\\\n",
       "\t15 & 2019-01-01 & Client\\_B & Product\\_KF & 87 & 55.7 & 0.2 & 44.56 & 1.0 & 1.0 & 44.56 & 3876.72 \\\\\n",
       "\t16 & 2019-01-18 & Client\\_E & Product\\_KD & 92 & 18.0 & 0.0 & 18.0 & 1.05278 & 0.96 & 18.1921 & 1673.67 \\\\\n",
       "\t17 & 2019-01-04 & Client\\_J & Product\\_SW & 48 & 26.9 & 0.2 & 21.52 & 1.0 & 1.0 & 21.52 & 1032.96 \\\\\n",
       "\t18 & 2019-01-09 & Client\\_M & Product\\_ZW & 96 & 24.4 & 0.4 & 14.64 & 1.0 & 1.0 & 14.64 & 1405.44 \\\\\n",
       "\t19 & 2019-01-19 & Client\\_A & Product\\_KF & 92 & 55.7 & 0.1 & 50.13 & 1.0 & 1.0 & 50.13 & 4611.96 \\\\\n",
       "\t20 & 2019-01-04 & Client\\_K & Product\\_KL & 92 & 7.1 & 0.1 & 6.39 & 1.0 & 1.0 & 6.39 & 587.88 \\\\\n",
       "\t21 & 2019-01-21 & Client\\_B & Product\\_FK & 71 & 52.2 & 0.2 & 41.76 & 1.0 & 1.0 & 41.76 & 2964.96 \\\\\n",
       "\t22 & 2019-01-24 & Client\\_N & Product\\_CL & 26 & 80.0 & 0.2 & 64.0 & 0.937472 & 1.0 & 59.9982 & 1559.95 \\\\\n",
       "\t23 & 2019-01-08 & Client\\_N & Product\\_NB & 47 & 3.3 & 0.2 & 2.64 & 1.0 & 1.0 & 2.64 & 124.08 \\\\\n",
       "\t24 & 2019-01-27 & Client\\_H & Product\\_PZ & 46 & 11.3 & 0.2 & 9.04 & 1.0 & 1.0 & 9.04 & 415.84 \\\\\n",
       "\t25 & 2019-01-13 & Client\\_M & Product\\_SC & 12 & 61.3 & 0.4 & 36.78 & 1.0 & 1.0 & 36.78 & 441.36 \\\\\n",
       "\t26 & 2019-01-09 & Client\\_W & Product\\_XJ & 45 & 25.3 & 0.3 & 17.71 & 1.0 & 1.0 & 17.71 & 796.95 \\\\\n",
       "\t27 & 2019-01-23 & Client\\_Z & Product\\_RA & 61 & 84.8 & 0.0 & 84.8 & 1.0 & 1.0 & 84.8 & 5172.8 \\\\\n",
       "\t28 & 2019-01-14 & Client\\_H & Product\\_RT & 12 & 78.2 & 0.2 & 62.56 & 1.0 & 1.0 & 62.56 & 750.72 \\\\\n",
       "\t29 & 2019-01-27 & Client\\_L & Product\\_OM & 40 & 60.1 & 0.3 & 42.07 & 1.0 & 1.0 & 42.07 & 1682.8 \\\\\n",
       "\t30 & 2019-01-18 & Client\\_F & Product\\_PC & 13 & 68.2 & 0.4 & 40.92 & 1.0 & 1.0 & 40.92 & 531.96 \\\\\n",
       "\t$\\dots$ & $\\dots$ & $\\dots$ & $\\dots$ & $\\dots$ & $\\dots$ & $\\dots$ & $\\dots$ & $\\dots$ & $\\dots$ & $\\dots$ & $\\dots$ \\\\\n",
       "\\end{tabular}\n"
      ],
      "text/plain": [
       "1000000×11 DataFrame. Omitted printing of 6 columns\n",
       "│ Row     │ Date       │ Client   │ Product    │ Qty   │ UnitPriceGr │\n",
       "│         │ \u001b[90mDate\u001b[39m       │ \u001b[90mString\u001b[39m   │ \u001b[90mString\u001b[39m     │ \u001b[90mInt64\u001b[39m │ \u001b[90mFloat64\u001b[39m     │\n",
       "├─────────┼────────────┼──────────┼────────────┼───────┼─────────────┤\n",
       "│ 1       │ 2019-01-06 │ Client_Z │ Product_AI │ 42    │ 14.4        │\n",
       "│ 2       │ 2019-01-11 │ Client_S │ Product_KC │ 23    │ 27.1        │\n",
       "│ 3       │ 2019-01-17 │ Client_D │ Product_HA │ 73    │ 13.9        │\n",
       "│ 4       │ 2019-01-13 │ Client_K │ Product_XC │ 77    │ 24.8        │\n",
       "│ 5       │ 2019-01-28 │ Client_P │ Product_VG │ 90    │ 71.5        │\n",
       "│ 6       │ 2019-01-19 │ Client_N │ Product_LO │ 83    │ 14.6        │\n",
       "│ 7       │ 2019-01-25 │ Client_S │ Product_LN │ 65    │ 46.9        │\n",
       "│ 8       │ 2019-01-03 │ Client_B │ Product_RE │ 61    │ 11.1        │\n",
       "│ 9       │ 2019-01-06 │ Client_C │ Product_VP │ 11    │ 81.1        │\n",
       "│ 10      │ 2019-01-12 │ Client_I │ Product_CS │ 20    │ 74.9        │\n",
       "⋮\n",
       "│ 999990  │ 2019-01-31 │ Client_Y │ Product_BW │ 33    │ 44.2        │\n",
       "│ 999991  │ 2019-01-15 │ Client_H │ Product_FW │ 51    │ 38.7        │\n",
       "│ 999992  │ 2019-01-29 │ Client_N │ Product_KP │ 34    │ 19.1        │\n",
       "│ 999993  │ 2019-01-09 │ Client_W │ Product_ZM │ 21    │ 44.5        │\n",
       "│ 999994  │ 2019-01-04 │ Client_I │ Product_IL │ 54    │ 17.8        │\n",
       "│ 999995  │ 2019-01-09 │ Client_Q │ Product_BH │ 39    │ 57.3        │\n",
       "│ 999996  │ 2019-01-12 │ Client_E │ Product_XA │ 96    │ 97.7        │\n",
       "│ 999997  │ 2019-01-30 │ Client_I │ Product_SN │ 93    │ 12.8        │\n",
       "│ 999998  │ 2019-01-13 │ Client_K │ Product_BT │ 53    │ 2.9         │\n",
       "│ 999999  │ 2019-01-04 │ Client_M │ Product_BU │ 14    │ 24.4        │\n",
       "│ 1000000 │ 2019-01-19 │ Client_Y │ Product_RO │ 29    │ 84.0        │"
      ]
     },
     "execution_count": 178,
     "metadata": {},
     "output_type": "execute_result"
    }
   ],
   "source": [
    "nr=1000000\n",
    "invoices=DataFrame()\n",
    "invoices[:Date]=rand(Date(2019,1,1):Dates.Day(1):Date(2019,1,31),nr)\n",
    "invoices[:Client]=rand(clients,nr)\n",
    "invoices[:Product]=rand(products,nr)\n",
    "invoices[:Qty]=rand(10:100,nr)\n",
    "invoices[:UnitPriceGr]=map(x->product_price[x],invoices[:Product])\n",
    "invoices[:Discount]=map(x->client_disc[x],invoices[:Client])\n",
    "invoices[:UnitPriceReal]=invoices[:UnitPriceGr].*(1 .-invoices[:Discount])\n",
    "invoices[:Noise]=[rand()>0.95 ? rand(LogNormal(0.01,0.025)) : 1.0 for r in 1:nr]\n",
    "invoices[:Fraud]=map(x->client_fraud[x] ? rand(0.95:0.01:0.99) : 1.0,invoices[:Client])\n",
    "invoices[:UnitPrice]=invoices[:UnitPriceReal].*invoices[:Noise].*invoices[:Fraud]\n",
    "invoices[:Value]=invoices[:Qty].*invoices[:UnitPrice]\n",
    "\n",
    "invoices"
   ]
  },
  {
   "cell_type": "code",
   "execution_count": 179,
   "metadata": {},
   "outputs": [],
   "source": [
    "summary=by(invoices,[:Client,:Product],df->DataFrame(Value=sum(df[:Value]),meanPrice=mean(df[:UnitPrice]),stdPrice=std(df[:UnitPrice])))\n",
    "summary[:cvPrice]=summary[:stdPrice]./summary[:meanPrice]\n",
    "summary[:Risk]=summary[:cvPrice].*summary[:Value];"
   ]
  },
  {
   "cell_type": "code",
   "execution_count": 201,
   "metadata": {},
   "outputs": [],
   "source": [
    "opt=Dict(\"xAxis\"=>Dict(\"type\"=>\"value\"),\"yAxis\"=>Dict(\"type\"=>\"value\"),\n",
    "            \"series\"=>[])\n",
    "push!(opt[\"series\"],Dict(\"type\"=>\"scatter\",\"data\"=>map(x->Dict(\"value\"=>[round(x[:cvPrice],digits=5),x[:Value],x[:Risk],x[:Client],x[:Product]]),eachrow(summary))))\n",
    "opt[\"visualMap\"]=Dict(\"dimension\"=>2,\"min\"=>minimum(summary[:Risk]),\"max\"=>maximum(summary[:Risk]),\"color\"=>[\"#f01104\",\"#2f8946\"])\n",
    "opt[\"title\"]=Dict(\"text\"=>\"Risco Preço nas Vendas por Cliente/Produto\",\"left\"=>\"center\")\n",
    "ec=EChart(opt,width=1200,height=800);"
   ]
  },
  {
   "cell_type": "code",
   "execution_count": 200,
   "metadata": {},
   "outputs": [
    {
     "data": {
      "text/plain": [
       "433"
      ]
     },
     "execution_count": 200,
     "metadata": {},
     "output_type": "execute_result"
    }
   ],
   "source": [
    "open(\"sales_risk.html\", \"w\") do f\n",
    "    write(f,\"\"\"<!DOCTYPE html>\n",
    "<html>\n",
    "<head>\n",
    "    <title>Demo</title>\n",
    "    <meta charset=\"UTF-8\" />\n",
    "    <meta name=\"viewport\" content=\"width=device-width, initial-scale=1\">\n",
    "    <script src=\"https://cdnjs.cloudflare.com/ajax/libs/echarts/4.3.0/echarts-en.min.js\"></script>\n",
    "</head>\"\"\")\n",
    "    write(f,\"<body>\")\n",
    "    write(f,html(ec))\n",
    "    write(f,\"</body>\")\n",
    "    write(f,\"\"\"<script>myChart.setOption({\"tooltip\":{\"padding\":10,\"borderColor\":\"#777\",\"borderWidth\":1,\"backgroundColor\":\"#242\",\"formatter\":\n",
    "                    function (params, ticket, callback) {\n",
    "                        return \"Cliente : \"+params.value[3]+\"<br>Produto : \"+params.value[4]+\"<br>Vendas : \"+Intl.NumberFormat().format(params.value[1])+\"<br>Coef Var Preço : \"+params.value[0]\n",
    "                        }\n",
    "                    }},false,true);</script>\n",
    "    \"\"\")                \n",
    "    \n",
    "end\n"
   ]
  }
 ],
 "metadata": {
  "kernelspec": {
   "display_name": "Julia 1.1.0",
   "language": "julia",
   "name": "julia-1.1"
  },
  "language_info": {
   "file_extension": ".jl",
   "mimetype": "application/julia",
   "name": "julia",
   "version": "1.1.0"
  }
 },
 "nbformat": 4,
 "nbformat_minor": 2
}
